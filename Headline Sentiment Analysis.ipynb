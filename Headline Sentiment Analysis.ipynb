{
 "cells": [
  {
   "cell_type": "markdown",
   "metadata": {},
   "source": [
    "<h1> <center> IA369Y - Computação Afetiva </center>\n",
    "\n",
    "<center> T2 - Análise de Sentimentos em Textos </center></h1>\n",
    "## <center> Profª: Paula Dornhofer Paro Costa </center>\n",
    "## <center>Alunos: Diego Cardoso Alves </center>\n",
    "## <center>  Murilo Marin Pechoto </center>"
   ]
  },
  {
   "cell_type": "markdown",
   "metadata": {},
   "source": [
    "### Objetivo\n",
    "O objetivo desta tarefa é expor os alunos aos desafios práticos envolvidos na análise de textos e na atribuição de valores de valência ou rótulos de emoções a sentenças.\n",
    "Não é objetivo desta tarefa avaliar a acurácia de detecção ou a eficiência do modelo implementado mas a análise crítica do projeto e o amadurecimento em relação ao problema.\n"
   ]
  },
  {
   "cell_type": "markdown",
   "metadata": {},
   "source": [
    "### Problema 1 - Determinação de Valência em Manchetes de Jornais Brasileiros no 1° Semestre de 2017\n",
    "\n",
    "* Serão fornecidas 500 manchetes dos jornais “Valor Ecônomico”, “O Globo”, “Folha de São Paulo”, “O Estado de São Paulo”, extraídas em datas específicas dos meses de dezembro de 2016 a agosto de 2017. O acesso à base deve ser realizado pelo link: https://github.com/pdpcosta/manchetesBrasildatabase\n",
    "\n",
    "* O problema consiste em classificar as manchetes em valência positiva, neutra ou negativa, associado ao indicador de intensidade. Exemplo: numa escala de -100  a 100, uma manchete classificada como +80 pode ser considerada muito positiva e uma manchete classificada como 5 pode ser considerada neutra.\n",
    "\n",
    "* A tarefa consiste em definir a abordagem ao problema, o modelo de classificação, as regras de análise e deverá realizar uma implementação prática do algoritmo definido."
   ]
  },
  {
   "cell_type": "markdown",
   "metadata": {},
   "source": [
    "## Introdução\n",
    "\n",
    "Ao longo deste Jupyter Notebook será demonstrado uma análise do dataset fornecido, as bibliotecas utilizadas e os resultados obtidos."
   ]
  },
  {
   "cell_type": "markdown",
   "metadata": {},
   "source": [
    "## Bibliotecas\n",
    "\n",
    "Foram utilizadas diversas bibliotecas para nos auxiliar na tarefa de determinar a valência em manchetes de jornais.\n",
    "Abaixo, apresentamos uma breve descrição de cada uma delas"
   ]
  },
  {
   "cell_type": "code",
   "execution_count": 24,
   "metadata": {
    "collapsed": true
   },
   "outputs": [],
   "source": [
    "import numpy as np  #Numpy para cálculos númericos\n",
    "import pandas as pd #Pandas é uma ferramente muito útil para análise de dados\n",
    "pd.set_option('display.max_columns', None) #Parâmetro para exibir todas as colunas\n",
    "pd.set_option('display.max_colwidth', -1)\n",
    "\n",
    "%matplotlib inline\n",
    "import matplotlib.pyplot as plt #Matplot é uma biblioteca clássica do Python para plotagem de gráficos\n",
    "import seaborn as sns #Seaborn é uma ótima ferramenta para gráficos de análise de dados\n",
    "\n",
    "import nltk #NLTK é uma biblioteca de processamento de linguagem natural\n",
    "from nltk.tokenize import word_tokenize #\"Tokeniza\" uma string para separar a pontuação além dos períodos.\n",
    "#from nltk.corpus import sentiwordnet \n",
    "\n",
    "from wordcloud import WordCloud #Biblioteca para criar nuvem de palavras\n",
    "#from collections import Counter\n",
    "\n",
    "import requests #Requests é uma biblioteca HTTP para Python\n",
    "import re #Biblioteca para trabalhar com expressões regulares\n",
    "from bs4 import BeautifulSoup #BeautifulSoup é uma biblioteca Python para extrair dados de arquivos HTML e XML"
   ]
  },
  {
   "cell_type": "markdown",
   "metadata": {},
   "source": [
    "## Leitura do Dataset\n",
    "\n",
    "Arquivo original de dados obtido através de https://github.com/pdpcosta/manchetesBrasildatabase.\n",
    "\n",
    "O arquivo .CSV foi lido através de um método do Pandas, onde já podemos atribuir cabeçalhos às colunas.\n",
    "\n",
    "Logo abaixo, podemos ver as colunas e algumas amostras do dataset."
   ]
  },
  {
   "cell_type": "code",
   "execution_count": 4,
   "metadata": {
    "collapsed": true
   },
   "outputs": [],
   "source": [
    "df = pd.read_csv(\"manchetesBrasildatabase.csv\", quotechar=\"'\", header = None, names = [\"Day\", \"Month\", \"Year\", \"Company\", \"Headline\"])"
   ]
  },
  {
   "cell_type": "code",
   "execution_count": 5,
   "metadata": {
    "scrolled": true
   },
   "outputs": [
    {
     "data": {
      "text/html": [
       "<div>\n",
       "<style>\n",
       "    .dataframe thead tr:only-child th {\n",
       "        text-align: right;\n",
       "    }\n",
       "\n",
       "    .dataframe thead th {\n",
       "        text-align: left;\n",
       "    }\n",
       "\n",
       "    .dataframe tbody tr th {\n",
       "        vertical-align: top;\n",
       "    }\n",
       "</style>\n",
       "<table border=\"1\" class=\"dataframe\">\n",
       "  <thead>\n",
       "    <tr style=\"text-align: right;\">\n",
       "      <th></th>\n",
       "      <th>Day</th>\n",
       "      <th>Month</th>\n",
       "      <th>Year</th>\n",
       "      <th>Company</th>\n",
       "      <th>Headline</th>\n",
       "    </tr>\n",
       "  </thead>\n",
       "  <tbody>\n",
       "    <tr>\n",
       "      <th>0</th>\n",
       "      <td>1</td>\n",
       "      <td>fevereiro</td>\n",
       "      <td>2017</td>\n",
       "      <td>Valor</td>\n",
       "      <td>BNDES encolhe e volta ao nível de 20 anos atrás</td>\n",
       "    </tr>\n",
       "    <tr>\n",
       "      <th>1</th>\n",
       "      <td>1</td>\n",
       "      <td>fevereiro</td>\n",
       "      <td>2017</td>\n",
       "      <td>Valor</td>\n",
       "      <td>BC cria novo instrumento de política monetária.</td>\n",
       "    </tr>\n",
       "    <tr>\n",
       "      <th>2</th>\n",
       "      <td>1</td>\n",
       "      <td>fevereiro</td>\n",
       "      <td>2017</td>\n",
       "      <td>Valor</td>\n",
       "      <td>Câmbio gera bate-boca entre UA e UE.</td>\n",
       "    </tr>\n",
       "    <tr>\n",
       "      <th>3</th>\n",
       "      <td>1</td>\n",
       "      <td>fevereiro</td>\n",
       "      <td>2017</td>\n",
       "      <td>Valor</td>\n",
       "      <td>Indenização a transmissoras de energia já chega à tarifa.</td>\n",
       "    </tr>\n",
       "    <tr>\n",
       "      <th>4</th>\n",
       "      <td>1</td>\n",
       "      <td>fevereiro</td>\n",
       "      <td>2017</td>\n",
       "      <td>Valor</td>\n",
       "      <td>Políticos esperam que relator separe \"joio do trigo\".</td>\n",
       "    </tr>\n",
       "  </tbody>\n",
       "</table>\n",
       "</div>"
      ],
      "text/plain": [
       "   Day      Month  Year Company  \\\n",
       "0  1    fevereiro  2017  Valor    \n",
       "1  1    fevereiro  2017  Valor    \n",
       "2  1    fevereiro  2017  Valor    \n",
       "3  1    fevereiro  2017  Valor    \n",
       "4  1    fevereiro  2017  Valor    \n",
       "\n",
       "                                                    Headline  \n",
       "0  BNDES encolhe e volta ao nível de 20 anos atrás            \n",
       "1  BC cria novo instrumento de política monetária.            \n",
       "2  Câmbio gera bate-boca entre UA e UE.                       \n",
       "3  Indenização a transmissoras de energia já chega à tarifa.  \n",
       "4  Políticos esperam que relator separe \"joio do trigo\".      "
      ]
     },
     "execution_count": 5,
     "metadata": {},
     "output_type": "execute_result"
    }
   ],
   "source": [
    "df.head()"
   ]
  },
  {
   "cell_type": "markdown",
   "metadata": {},
   "source": [
    "# Análise Textual\n",
    "\n",
    "Primeiramente, vamos apresentar uma análise textual baseado no tamanho das sentenças de cada manchete de notícia."
   ]
  },
  {
   "cell_type": "markdown",
   "metadata": {},
   "source": [
    "### Criação de uma nova coluna para o tamanho de cada manchete\n",
    "\n",
    "A função abaixo faz o split de cada manchete, conta as palavras e atribui o valor númerico a uma nova coluna (Lenght)"
   ]
  },
  {
   "cell_type": "code",
   "execution_count": 7,
   "metadata": {
    "scrolled": false
   },
   "outputs": [
    {
     "data": {
      "text/html": [
       "<div>\n",
       "<style>\n",
       "    .dataframe thead tr:only-child th {\n",
       "        text-align: right;\n",
       "    }\n",
       "\n",
       "    .dataframe thead th {\n",
       "        text-align: left;\n",
       "    }\n",
       "\n",
       "    .dataframe tbody tr th {\n",
       "        vertical-align: top;\n",
       "    }\n",
       "</style>\n",
       "<table border=\"1\" class=\"dataframe\">\n",
       "  <thead>\n",
       "    <tr style=\"text-align: right;\">\n",
       "      <th></th>\n",
       "      <th>Day</th>\n",
       "      <th>Month</th>\n",
       "      <th>Year</th>\n",
       "      <th>Company</th>\n",
       "      <th>Headline</th>\n",
       "      <th>Length</th>\n",
       "    </tr>\n",
       "  </thead>\n",
       "  <tbody>\n",
       "    <tr>\n",
       "      <th>0</th>\n",
       "      <td>1</td>\n",
       "      <td>fevereiro</td>\n",
       "      <td>2017</td>\n",
       "      <td>Valor</td>\n",
       "      <td>BNDES encolhe e volta ao nível de 20 anos atrás</td>\n",
       "      <td>10</td>\n",
       "    </tr>\n",
       "    <tr>\n",
       "      <th>1</th>\n",
       "      <td>1</td>\n",
       "      <td>fevereiro</td>\n",
       "      <td>2017</td>\n",
       "      <td>Valor</td>\n",
       "      <td>BC cria novo instrumento de política monetária.</td>\n",
       "      <td>7</td>\n",
       "    </tr>\n",
       "    <tr>\n",
       "      <th>2</th>\n",
       "      <td>1</td>\n",
       "      <td>fevereiro</td>\n",
       "      <td>2017</td>\n",
       "      <td>Valor</td>\n",
       "      <td>Câmbio gera bate-boca entre UA e UE.</td>\n",
       "      <td>7</td>\n",
       "    </tr>\n",
       "    <tr>\n",
       "      <th>3</th>\n",
       "      <td>1</td>\n",
       "      <td>fevereiro</td>\n",
       "      <td>2017</td>\n",
       "      <td>Valor</td>\n",
       "      <td>Indenização a transmissoras de energia já chega à tarifa.</td>\n",
       "      <td>9</td>\n",
       "    </tr>\n",
       "    <tr>\n",
       "      <th>4</th>\n",
       "      <td>1</td>\n",
       "      <td>fevereiro</td>\n",
       "      <td>2017</td>\n",
       "      <td>Valor</td>\n",
       "      <td>Políticos esperam que relator separe \"joio do trigo\".</td>\n",
       "      <td>8</td>\n",
       "    </tr>\n",
       "  </tbody>\n",
       "</table>\n",
       "</div>"
      ],
      "text/plain": [
       "   Day      Month  Year Company  \\\n",
       "0  1    fevereiro  2017  Valor    \n",
       "1  1    fevereiro  2017  Valor    \n",
       "2  1    fevereiro  2017  Valor    \n",
       "3  1    fevereiro  2017  Valor    \n",
       "4  1    fevereiro  2017  Valor    \n",
       "\n",
       "                                                    Headline  Length  \n",
       "0  BNDES encolhe e volta ao nível de 20 anos atrás            10      \n",
       "1  BC cria novo instrumento de política monetária.            7       \n",
       "2  Câmbio gera bate-boca entre UA e UE.                       7       \n",
       "3  Indenização a transmissoras de energia já chega à tarifa.  9       \n",
       "4  Políticos esperam que relator separe \"joio do trigo\".      8       "
      ]
     },
     "execution_count": 7,
     "metadata": {},
     "output_type": "execute_result"
    }
   ],
   "source": [
    "df['Length'] = df['Headline'].apply(lambda x: len(x.split()))\n",
    "df.head()"
   ]
  },
  {
   "cell_type": "markdown",
   "metadata": {},
   "source": [
    "### Número de médio de palavras\n",
    "\n",
    "O gráfico abaixo ilustra o número médio de palavras utilizadas nas manchetes de cada Jornal"
   ]
  },
  {
   "cell_type": "code",
   "execution_count": 26,
   "metadata": {
    "scrolled": false
   },
   "outputs": [
    {
     "data": {
      "image/png": "[encoded data removed]",
      "text/plain": [
       "<matplotlib.figure.Figure at 0x2dbf5c13588>"
      ]
     },
     "metadata": {},
     "output_type": "display_data"
    }
   ],
   "source": [
    "ax = df.groupby(\"Company\")[\"Length\"].median().plot(kind=\"barh\", figsize=(8, 8))\n",
    "\n",
    "# resize y label\n",
    "ylabel = ax.yaxis.get_label()\n",
    "ylabel.set_fontsize(24)\n",
    "\n",
    "# resize x tick labels\n",
    "labels = ax.yaxis.get_ticklabels()\n",
    "[label.set_fontsize(20) for label in labels];\n",
    "\n",
    "# resize y tick labels\n",
    "labels = ax.xaxis.get_ticklabels()\n",
    "[label.set_fontsize(20) for label in labels]\n",
    "[label.set_rotation(-45) for label in labels];"
   ]
  },
  {
   "cell_type": "markdown",
   "metadata": {},
   "source": [
    "Claramente podemos ver que a \"Folha de São Paulo\", na média, utiliza mais palavras em suas manchetes."
   ]
  },
  {
   "cell_type": "markdown",
   "metadata": {},
   "source": [
    "### Criação de uma nova coluna para o tamanho de cada manchete - Stopwords\n",
    "\n",
    "Stopwords: São palavras que podem ser consideradas irrelevantes para o conjunto de resultados a ser exibido em uma busca realizada em uma search engine [1]. Estas palavras são usadas para definir a estrutura de uma frase. Mas, não são de nenhum uso em definir o contexto.\n",
    "Alguns exemplos de Stopwords:\n",
    "* Linguagem – a, o, de, da, que, em, um.\n",
    "\n",
    "Vamos repetir a mesma análise anterior, porém retirando as \"stopwords\". Para isso vamos utilizar um método da biblioteca NLTK, que nos fornece facilmente algumas stopwords da Lingua Portuguesa.\n",
    "\n",
    "A função abaixo faz o split de cada manchete, conta as palavras sem as stopwords e atribui o valor númerico a uma nova coluna (Lenght_Filtered)\n",
    "\n",
    "[1] http://www.agenciamestre.com/seo/stop-words-como-funcionam-palavras-de-parada/"
   ]
  },
  {
   "cell_type": "code",
   "execution_count": 30,
   "metadata": {
    "scrolled": false
   },
   "outputs": [
    {
     "data": {
      "text/html": [
       "<div>\n",
       "<style>\n",
       "    .dataframe thead tr:only-child th {\n",
       "        text-align: right;\n",
       "    }\n",
       "\n",
       "    .dataframe thead th {\n",
       "        text-align: left;\n",
       "    }\n",
       "\n",
       "    .dataframe tbody tr th {\n",
       "        vertical-align: top;\n",
       "    }\n",
       "</style>\n",
       "<table border=\"1\" class=\"dataframe\">\n",
       "  <thead>\n",
       "    <tr style=\"text-align: right;\">\n",
       "      <th></th>\n",
       "      <th>Day</th>\n",
       "      <th>Month</th>\n",
       "      <th>Year</th>\n",
       "      <th>Company</th>\n",
       "      <th>Headline</th>\n",
       "      <th>Length</th>\n",
       "      <th>Length_Filtered</th>\n",
       "    </tr>\n",
       "  </thead>\n",
       "  <tbody>\n",
       "    <tr>\n",
       "      <th>0</th>\n",
       "      <td>1</td>\n",
       "      <td>fevereiro</td>\n",
       "      <td>2017</td>\n",
       "      <td>Valor</td>\n",
       "      <td>BNDES encolhe e volta ao nível de 20 anos atrás</td>\n",
       "      <td>10</td>\n",
       "      <td>7</td>\n",
       "    </tr>\n",
       "    <tr>\n",
       "      <th>1</th>\n",
       "      <td>1</td>\n",
       "      <td>fevereiro</td>\n",
       "      <td>2017</td>\n",
       "      <td>Valor</td>\n",
       "      <td>BC cria novo instrumento de política monetária.</td>\n",
       "      <td>7</td>\n",
       "      <td>6</td>\n",
       "    </tr>\n",
       "    <tr>\n",
       "      <th>2</th>\n",
       "      <td>1</td>\n",
       "      <td>fevereiro</td>\n",
       "      <td>2017</td>\n",
       "      <td>Valor</td>\n",
       "      <td>Câmbio gera bate-boca entre UA e UE.</td>\n",
       "      <td>7</td>\n",
       "      <td>5</td>\n",
       "    </tr>\n",
       "    <tr>\n",
       "      <th>3</th>\n",
       "      <td>1</td>\n",
       "      <td>fevereiro</td>\n",
       "      <td>2017</td>\n",
       "      <td>Valor</td>\n",
       "      <td>Indenização a transmissoras de energia já chega à tarifa.</td>\n",
       "      <td>9</td>\n",
       "      <td>5</td>\n",
       "    </tr>\n",
       "    <tr>\n",
       "      <th>4</th>\n",
       "      <td>1</td>\n",
       "      <td>fevereiro</td>\n",
       "      <td>2017</td>\n",
       "      <td>Valor</td>\n",
       "      <td>Políticos esperam que relator separe \"joio do trigo\".</td>\n",
       "      <td>8</td>\n",
       "      <td>6</td>\n",
       "    </tr>\n",
       "  </tbody>\n",
       "</table>\n",
       "</div>"
      ],
      "text/plain": [
       "   Day      Month  Year Company  \\\n",
       "0  1    fevereiro  2017  Valor    \n",
       "1  1    fevereiro  2017  Valor    \n",
       "2  1    fevereiro  2017  Valor    \n",
       "3  1    fevereiro  2017  Valor    \n",
       "4  1    fevereiro  2017  Valor    \n",
       "\n",
       "                                                    Headline  Length  \\\n",
       "0  BNDES encolhe e volta ao nível de 20 anos atrás            10       \n",
       "1  BC cria novo instrumento de política monetária.            7        \n",
       "2  Câmbio gera bate-boca entre UA e UE.                       7        \n",
       "3  Indenização a transmissoras de energia já chega à tarifa.  9        \n",
       "4  Políticos esperam que relator separe \"joio do trigo\".      8        \n",
       "\n",
       "   Length_Filtered  \n",
       "0  7                \n",
       "1  6                \n",
       "2  5                \n",
       "3  5                \n",
       "4  6                "
      ]
     },
     "execution_count": 30,
     "metadata": {},
     "output_type": "execute_result"
    }
   ],
   "source": [
    "stopwords = nltk.corpus.stopwords.words('portuguese')\n",
    "df['Length_Filtered'] = df['Headline'].apply(lambda x: len(set(x.split()).difference(stopwords)) )\n",
    "df.head()"
   ]
  },
  {
   "cell_type": "markdown",
   "metadata": {},
   "source": [
    "### Número de médio de palavras sem stopwords\n",
    "\n",
    "O gráfico abaixo ilustra o número médio de palavras utilizadas nas manchetes de cada Jornal\n"
   ]
  },
  {
   "cell_type": "code",
   "execution_count": 33,
   "metadata": {},
   "outputs": [
    {
     "data": {
      "image/png": "[encoded data removed]",
      "text/plain": [
       "<matplotlib.figure.Figure at 0x2dbf6131780>"
      ]
     },
     "metadata": {},
     "output_type": "display_data"
    }
   ],
   "source": [
    "ax = df.groupby(\"Company\")[\"Length_Filtered\"].median().plot(kind=\"barh\", figsize=(8, 8))\n",
    "\n",
    "# resize y label\n",
    "ylabel = ax.yaxis.get_label()\n",
    "ylabel.set_fontsize(24)\n",
    "\n",
    "# resize x tick labels\n",
    "labels = ax.yaxis.get_ticklabels()\n",
    "[label.set_fontsize(20) for label in labels];\n",
    "\n",
    "# resize y tick labels\n",
    "labels = ax.xaxis.get_ticklabels()\n",
    "[label.set_fontsize(20) for label in labels]\n",
    "[label.set_rotation(-45) for label in labels];"
   ]
  },
  {
   "cell_type": "markdown",
   "metadata": {},
   "source": [
    "Mesmo após a remoção das stopwors, o jornal \"Folha de São Paulo\" ainda tem o maior número médio de palavras em suas manchetes.\n",
    "\n",
    "Esta pré análise vai nos ajudar a verificar se o número de palavras foi um fator relevante ou não na determinação da valência de cada manchete. "
   ]
  },
  {
   "cell_type": "markdown",
   "metadata": {},
   "source": [
    "# POS Tagging analysis using MAC Morpho\n",
    "\n",
    "#### Below is the analysis of quantity and quality of MAC Morpho in respect of nouns, adjectives and verbs since we are more interested in learning how it works with the main types of tokes in Portuguese language."
   ]
  },
  {
   "cell_type": "code",
   "execution_count": null,
   "metadata": {
    "collapsed": true
   },
   "outputs": [],
   "source": [
    "import nltk.corpus\n",
    "dict_morpho = dict(nltk.corpus.mac_morpho.tagged_words())"
   ]
  },
  {
   "cell_type": "code",
   "execution_count": null,
   "metadata": {
    "collapsed": true
   },
   "outputs": [],
   "source": [
    "# function responsible to draw wordclouds\n",
    "def wordcloud_draw(data, color = 'white', title= \"\"):\n",
    "    words = ' '.join(data)\n",
    "    wordcloud = WordCloud(\n",
    "                      background_color=color,\n",
    "                      width=2500,\n",
    "                      height=2000\n",
    "                     ).generate(words)\n",
    "    plt.figure(1,figsize=(8, 8))\n",
    "    plt.title(title, fontsize=20)\n",
    "    plt.imshow(wordcloud)\n",
    "    plt.axis('off')\n",
    "    plt.show()"
   ]
  },
  {
   "cell_type": "markdown",
   "metadata": {},
   "source": [
    "### Creating new column for adjectives count of each sentence"
   ]
  },
  {
   "cell_type": "code",
   "execution_count": null,
   "metadata": {
    "collapsed": true,
    "scrolled": true
   },
   "outputs": [],
   "source": [
    "adjectives = []\n",
    "def adj_count(sentence):\n",
    "    headlines = [w for w in sentence.split() if w not in stopwords and w.isalpha()]\n",
    "    adj_count = 0\n",
    "    for word in headlines:\n",
    "        try:\n",
    "            if dict_morpho[word] == \"ADJ\":\n",
    "                adj_count += 1\n",
    "                adjectives.append(word)\n",
    "        except:\n",
    "            pass\n",
    "    return adj_count\n",
    "df['Adjectives_Count'] = df['Headline'].apply(lambda x: adj_count(x))\n",
    "df.head()"
   ]
  },
  {
   "cell_type": "markdown",
   "metadata": {},
   "source": [
    "### Worcloud for adjectives"
   ]
  },
  {
   "cell_type": "code",
   "execution_count": null,
   "metadata": {
    "collapsed": true
   },
   "outputs": [],
   "source": [
    "wordcloud_draw(adjectives, \"white\", \"Adjectives WordCloud\")"
   ]
  },
  {
   "cell_type": "markdown",
   "metadata": {},
   "source": [
    "### Creating new column for nouns count of each sentence"
   ]
  },
  {
   "cell_type": "code",
   "execution_count": null,
   "metadata": {
    "collapsed": true,
    "scrolled": true
   },
   "outputs": [],
   "source": [
    "nouns = []\n",
    "def sub_count(sentence):\n",
    "    headlines = [w for w in sentence.split() if w not in stopwords and w.isalpha()]\n",
    "    adj_count = 0\n",
    "    for word in headlines:\n",
    "        try:\n",
    "            if dict_morpho[word] == \"N\":\n",
    "                adj_count += 1\n",
    "                nouns.append(word)\n",
    "        except:\n",
    "            pass\n",
    "    return adj_count\n",
    "df['Nouns_Count'] = df['Headline'].apply(lambda x: sub_count(x))\n",
    "df.head()"
   ]
  },
  {
   "cell_type": "markdown",
   "metadata": {},
   "source": [
    "### Worcloud for nouns"
   ]
  },
  {
   "cell_type": "code",
   "execution_count": null,
   "metadata": {
    "collapsed": true
   },
   "outputs": [],
   "source": [
    "wordcloud_draw(nouns, \"white\", \"Nouns WordCloud\")"
   ]
  },
  {
   "cell_type": "markdown",
   "metadata": {},
   "source": [
    "### Creating new column for verbs count of each sentence"
   ]
  },
  {
   "cell_type": "code",
   "execution_count": null,
   "metadata": {
    "collapsed": true,
    "scrolled": true
   },
   "outputs": [],
   "source": [
    "verbs = []\n",
    "def verb_count(sentence):\n",
    "    headlines = [w for w in sentence.split() if w not in stopwords and w.isalpha()]\n",
    "    adj_count = 0\n",
    "    for word in headlines:\n",
    "        try:\n",
    "            if dict_morpho[word] == \"V\":\n",
    "                adj_count += 1\n",
    "                verbs.append(word)\n",
    "        except:\n",
    "            pass\n",
    "    return adj_count\n",
    "df['Verbs_Count'] = df['Headline'].apply(lambda x: verb_count(x))\n",
    "df.head()"
   ]
  },
  {
   "cell_type": "markdown",
   "metadata": {},
   "source": [
    "### Worcloud for verbs"
   ]
  },
  {
   "cell_type": "code",
   "execution_count": null,
   "metadata": {
    "collapsed": true,
    "scrolled": true
   },
   "outputs": [],
   "source": [
    "wordcloud_draw(verbs, \"white\", \"Verbs WordCloud\")"
   ]
  },
  {
   "cell_type": "markdown",
   "metadata": {},
   "source": [
    "#### As we can see, MAC Morpho achieved a good result classifying the tokens but could improve specially dealing with verbs without its infinitive form. Lemmatizer could solve this problem but Mac Morpho don't accomplish all kinds of lemmatizer tokens."
   ]
  },
  {
   "cell_type": "markdown",
   "metadata": {},
   "source": [
    "## Analyzing the frequency"
   ]
  },
  {
   "cell_type": "code",
   "execution_count": null,
   "metadata": {
    "collapsed": true
   },
   "outputs": [],
   "source": [
    "# Remove all stopwords\n",
    "dataframe = pd.DataFrame(df['Headline'])\n",
    "\n",
    "names = []\n",
    "def funcao(sentence):\n",
    "    stopwords = nltk.corpus.stopwords.words('portuguese')\n",
    "    words = [w for w in sentence.lower().split() if w not in stopwords and w.isalpha()]\n",
    "    \n",
    "    return words\n",
    "\n",
    "dataframe['stopwords'] = df['Headline'].apply(lambda x: funcao(x))\n",
    "dataframe.head()"
   ]
  },
  {
   "cell_type": "code",
   "execution_count": null,
   "metadata": {
    "collapsed": true
   },
   "outputs": [],
   "source": [
    "all_words = []\n",
    "for x in dataframe.stopwords:\n",
    "    for y in x:\n",
    "        all_words.append(y)\n",
    "\n",
    "fd_words = nltk.FreqDist(all_words)\n",
    "for i,x in enumerate(fd_words.most_common()):\n",
    "    if i < 20:\n",
    "        print(x)"
   ]
  },
  {
   "cell_type": "code",
   "execution_count": null,
   "metadata": {
    "collapsed": true
   },
   "outputs": [],
   "source": [
    "#Identify duplicate news\n",
    "aux = df[['Company','Headline']][df.Headline.duplicated(keep=False)] #value_counts(sort=True)\n",
    "print (\"The dataset has\", aux.Headline.count(),\"news duplicated\")\n",
    "#print (aux.Headline.count())\n",
    "aux.sort_values(\"Headline\",ascending=True)"
   ]
  },
  {
   "cell_type": "markdown",
   "metadata": {},
   "source": [
    "# Lexical Analysis\n",
    "\n",
    "Lexical Python file was based in https://github.com/pedrobalage/STIL_LIWC_Evaluation. It's just two classes for using:\n",
    "- OpLexiconReader - OPLexicon 3.0\n",
    "- SentiLexReader - Sentilex PT02\n",
    "\n",
    "These are common dictionaries for Portuguese lexical use, including polarities for some words and expressions.\n",
    "\n",
    "Polarities in both are expressed as:\n",
    "\n",
    "- -1: Negative sentiment\n",
    "- 0: Neutral sentiment\n",
    "- 1: Positive sentiment"
   ]
  },
  {
   "cell_type": "code",
   "execution_count": null,
   "metadata": {
    "collapsed": true
   },
   "outputs": [],
   "source": [
    "#import lexical\n",
    "from lexical import OpLexiconReader\n",
    "from lexical import SentiLexReader\n",
    "from lexical import LiwcReader"
   ]
  },
  {
   "cell_type": "markdown",
   "metadata": {},
   "source": [
    "#### Example of OpLexicon 3.0"
   ]
  },
  {
   "cell_type": "code",
   "execution_count": null,
   "metadata": {
    "collapsed": true
   },
   "outputs": [],
   "source": [
    "oplexicon = OpLexiconReader()\n",
    "sentence = df[\"Headline\"][1].split()\n",
    "for w in sentence:\n",
    "    print(w, oplexicon.polarity(w))"
   ]
  },
  {
   "cell_type": "markdown",
   "metadata": {},
   "source": [
    "#### Example of SentiLex PT02"
   ]
  },
  {
   "cell_type": "code",
   "execution_count": null,
   "metadata": {
    "collapsed": true
   },
   "outputs": [],
   "source": [
    "sentilex =  SentiLexReader()\n",
    "for w in sentence:\n",
    "    print(w, sentilex.polarity(w))"
   ]
  },
  {
   "cell_type": "markdown",
   "metadata": {},
   "source": [
    "#### Example of LIWC"
   ]
  },
  {
   "cell_type": "code",
   "execution_count": null,
   "metadata": {
    "collapsed": true
   },
   "outputs": [],
   "source": [
    "liwc =  LiwcReader()\n",
    "for w in sentence:\n",
    "    print(w, liwc.polarity(w))"
   ]
  },
  {
   "cell_type": "markdown",
   "metadata": {},
   "source": [
    "#### The result above for both lexicals give us an alert that many words aren't present in these Portuguese lexicals. However, we will try to do sentiment analysis based on them."
   ]
  },
  {
   "cell_type": "markdown",
   "metadata": {},
   "source": [
    "# Sentiment Analysis"
   ]
  },
  {
   "cell_type": "markdown",
   "metadata": {},
   "source": [
    "#### The function below returns the polarity from the proper lexical. In order to keep dimensions between -1 and 1, we decided to sum up all polarities and take the mean related to the words that the lexical contains. So, words that are not present in the lexicals don't count in the final mean. In this way, sentiment analysis using the lexicals could be a little more accurated."
   ]
  },
  {
   "cell_type": "code",
   "execution_count": null,
   "metadata": {
    "collapsed": true,
    "scrolled": true
   },
   "outputs": [],
   "source": [
    "def extract_sentiment_lexical(sentence, lexical):\n",
    "    model = oplexicon if lexical == \"oplexicon\" else liwc if lexical ==\"liwc\" else sentilex\n",
    "    original_words = sentence.split()\n",
    "    stopwords = nltk.corpus.stopwords.words('portuguese')\n",
    "    #words = [w for w in original_words] \n",
    "    words = [w for w in original_words if w not in stopwords and w.isalpha()]  \n",
    "\n",
    "    sum_lexical, count_lexical = 0, 0\n",
    "    for w in words:\n",
    "        pol_lexical = model.polarity(w)\n",
    "        if pol_lexical is not None:\n",
    "            sum_lexical += pol_lexical\n",
    "            count_lexical += 1\n",
    "        \n",
    "    mean_lexical = sum_lexical/count_lexical if count_lexical != 0 else 0\n",
    "    #print(sentence, mean_lexical)\n",
    "    return mean_lexical\n",
    "    \n",
    "df['OpLexicon_Score'] = df['Headline'].apply(lambda x: extract_sentiment_lexical(x, \"oplexicon\"))\n",
    "df['SentiLex_Score'] = df['Headline'].apply(lambda x: extract_sentiment_lexical(x, \"sentilex\"))\n",
    "df['LIWC_Score'] = df['Headline'].apply(lambda x: extract_sentiment_lexical(x, \"liwc\"))\n",
    "df.head()"
   ]
  },
  {
   "cell_type": "code",
   "execution_count": null,
   "metadata": {
    "collapsed": true
   },
   "outputs": [],
   "source": [
    "import datetime as dt\n",
    "\n",
    "dict1 = {'janeiro':1,\n",
    "         'fevereiro':2,\n",
    "         'março':3, \n",
    "         'abril':4,\n",
    "         'maio':5,\n",
    "         'junho':6,\n",
    "         'julho':7,\n",
    "         'agosto':8,\n",
    "         'setembro':9,\n",
    "         'outubro':10, \n",
    "         'novembro':11,\n",
    "         'dezembro':12}\n",
    "df['Month_number'] = df.Month.map(dict1)\n",
    "\n",
    "df.head()"
   ]
  },
  {
   "cell_type": "code",
   "execution_count": null,
   "metadata": {
    "collapsed": true
   },
   "outputs": [],
   "source": [
    "df['DateTime'] = df[['Year', 'Month_number', 'Day']].apply(lambda s : dt.datetime(*s),axis = 1)\n",
    "df.head()"
   ]
  },
  {
   "cell_type": "code",
   "execution_count": null,
   "metadata": {
    "collapsed": true,
    "scrolled": true
   },
   "outputs": [],
   "source": [
    "df.index = df.DateTime\n",
    "\n",
    "#ax = df.set_index(df.Month).sort_index().groupby(\"Month\",sort=False, axis=0)[\"OpLexicon_Score\",\"SentiLex_Score\",\"LIWC_Score\"].mean().plot(kind=\"barh\", figsize=(8, 8))\n",
    "ax = pd.Series.groupby(df,by=[df.index.month,df.index.year],sort=True, axis=0)[\"OpLexicon_Score\",\"SentiLex_Score\",\"LIWC_Score\"].mean().plot(kind=\"barh\", figsize=(8, 8))\n",
    "\n",
    "# resize y label\n",
    "ylabel = ax.yaxis.get_label()\n",
    "ylabel.set_fontsize(24)\n",
    "\n",
    "\n",
    "# resize x tick labels\n",
    "labels = ax.yaxis.get_ticklabels()\n",
    "[label.set_fontsize(20) for label in labels];\n",
    "\n",
    "# resize y tick labels\n",
    "labels = ax.xaxis.get_ticklabels()\n",
    "[label.set_fontsize(20) for label in labels]\n",
    "[label.set_rotation(-45) for label in labels];"
   ]
  },
  {
   "cell_type": "markdown",
   "metadata": {},
   "source": [
    "#### Histograms from each dictionary"
   ]
  },
  {
   "cell_type": "code",
   "execution_count": null,
   "metadata": {
    "collapsed": true
   },
   "outputs": [],
   "source": [
    "df[\"OpLexicon_Score\"].hist()"
   ]
  },
  {
   "cell_type": "code",
   "execution_count": null,
   "metadata": {
    "collapsed": true
   },
   "outputs": [],
   "source": [
    "df[\"SentiLex_Score\"].hist()"
   ]
  },
  {
   "cell_type": "code",
   "execution_count": null,
   "metadata": {
    "collapsed": true
   },
   "outputs": [],
   "source": [
    "df[\"LIWC_Score\"].hist()"
   ]
  },
  {
   "cell_type": "markdown",
   "metadata": {},
   "source": [
    "### OpLexicon Score Analysis by Company"
   ]
  },
  {
   "cell_type": "code",
   "execution_count": null,
   "metadata": {
    "collapsed": true,
    "scrolled": true
   },
   "outputs": [],
   "source": [
    "ax = df.groupby(\"Company\")[\"OpLexicon_Score\"].mean().plot(kind=\"barh\", figsize=(8, 8))\n",
    "\n",
    "# resize y label\n",
    "ylabel = ax.yaxis.get_label()\n",
    "ylabel.set_fontsize(24)\n",
    "\n",
    "# resize x tick labels\n",
    "labels = ax.yaxis.get_ticklabels()\n",
    "[label.set_fontsize(20) for label in labels];\n",
    "\n",
    "# resize y tick labels\n",
    "labels = ax.xaxis.get_ticklabels()\n",
    "[label.set_fontsize(20) for label in labels]\n",
    "[label.set_rotation(-45) for label in labels];"
   ]
  },
  {
   "cell_type": "markdown",
   "metadata": {},
   "source": [
    "### SentiLex Score Analysis by Company"
   ]
  },
  {
   "cell_type": "code",
   "execution_count": null,
   "metadata": {
    "collapsed": true
   },
   "outputs": [],
   "source": [
    "ax = df.groupby(\"Company\")[\"SentiLex_Score\"].mean().plot(kind=\"barh\", figsize=(8, 8))\n",
    "\n",
    "# resize y label\n",
    "ylabel = ax.yaxis.get_label()\n",
    "ylabel.set_fontsize(24)\n",
    "\n",
    "# resize x tick labels\n",
    "labels = ax.yaxis.get_ticklabels()\n",
    "[label.set_fontsize(20) for label in labels];\n",
    "\n",
    "# resize y tick labels\n",
    "labels = ax.xaxis.get_ticklabels()\n",
    "[label.set_fontsize(20) for label in labels]\n",
    "[label.set_rotation(-45) for label in labels];"
   ]
  },
  {
   "cell_type": "markdown",
   "metadata": {},
   "source": [
    "# Real Time Headlines Analysis"
   ]
  },
  {
   "cell_type": "markdown",
   "metadata": {},
   "source": [
    "#### In order to analyse and compare which news are most important in the moment and their polarity, we propose a real time sentiment parser for both Folha, Valor and O Globo websites."
   ]
  },
  {
   "cell_type": "code",
   "execution_count": null,
   "metadata": {
    "collapsed": true
   },
   "outputs": [],
   "source": [
    "def parser(website):\n",
    "    r = requests.get(website)\n",
    "    content = r.content\n",
    "    soup = BeautifulSoup(content, \"html.parser\")\n",
    "    headings = soup.find_all(re.compile(r\"^h\\d$\"))\n",
    "    company = []\n",
    "    for h in headings:\n",
    "        # avoid ads\n",
    "        if len(h.text.strip().split()) > 6:\n",
    "            company.append(str.strip(h.text))\n",
    "    return company"
   ]
  },
  {
   "cell_type": "code",
   "execution_count": null,
   "metadata": {
    "collapsed": true
   },
   "outputs": [],
   "source": [
    "valor_news = parser(\"http://www.valor.com.br/\")\n",
    "globo_news = parser(\"https://oglobo.globo.com/\")\n",
    "folha_news = parser(\"http://www.folha.uol.com.br/\")"
   ]
  },
  {
   "cell_type": "markdown",
   "metadata": {},
   "source": [
    "## Folha Top 10"
   ]
  },
  {
   "cell_type": "code",
   "execution_count": null,
   "metadata": {
    "collapsed": true
   },
   "outputs": [],
   "source": [
    "for sentence in folha_news[:10]:\n",
    "    score_oplexicon = extract_sentiment_lexical(sentence, \"oplexicon\")\n",
    "    score_sentilex = extract_sentiment_lexical(sentence, \"sentilex\")\n",
    "    print(sentence, score_oplexicon, score_sentilex)"
   ]
  },
  {
   "cell_type": "code",
   "execution_count": null,
   "metadata": {
    "collapsed": true
   },
   "outputs": [],
   "source": [
    "words = []\n",
    "for sentence in folha_news[:10]:\n",
    "    for w in sentence.split():\n",
    "        if w not in stopwords and w.isalpha():\n",
    "            words.append(w) \n",
    "        \n",
    "wordcloud_draw(words, \"white\" ,\"WordCloud Folha\")"
   ]
  },
  {
   "cell_type": "markdown",
   "metadata": {},
   "source": [
    "## Valor Top 10"
   ]
  },
  {
   "cell_type": "code",
   "execution_count": null,
   "metadata": {
    "collapsed": true
   },
   "outputs": [],
   "source": [
    "for sentence in valor_news[:10]:\n",
    "    score_oplexicon = extract_sentiment_lexical(sentence, \"oplexicon\")\n",
    "    score_sentilex = extract_sentiment_lexical(sentence, \"sentilex\")\n",
    "    print(sentence, score_oplexicon, score_sentilex)"
   ]
  },
  {
   "cell_type": "code",
   "execution_count": null,
   "metadata": {
    "collapsed": true
   },
   "outputs": [],
   "source": [
    "words = []\n",
    "for sentence in valor_news[:10]:\n",
    "    for w in sentence.split():\n",
    "        if w not in stopwords and w.isalpha():\n",
    "            words.append(w) \n",
    "        \n",
    "wordcloud_draw(words, \"white\" ,\"WordCloud Valor\")"
   ]
  },
  {
   "cell_type": "markdown",
   "metadata": {},
   "source": [
    "## O Globo Top 10"
   ]
  },
  {
   "cell_type": "code",
   "execution_count": null,
   "metadata": {
    "collapsed": true
   },
   "outputs": [],
   "source": [
    "for sentence in globo_news[:10]:\n",
    "    score_oplexicon = extract_sentiment_lexical(sentence, \"oplexicon\")\n",
    "    score_sentilex = extract_sentiment_lexical(sentence, \"sentilex\")\n",
    "    print(sentence, score_oplexicon, score_sentilex)"
   ]
  },
  {
   "cell_type": "code",
   "execution_count": null,
   "metadata": {
    "collapsed": true
   },
   "outputs": [],
   "source": [
    "words = []\n",
    "for sentence in globo_news[:10]:\n",
    "    for w in sentence.split():\n",
    "        if w not in stopwords and w.isalpha():\n",
    "            words.append(w) \n",
    "        \n",
    "wordcloud_draw(words, \"white\" ,\"WordCloud O Globo\")"
   ]
  }
 ],
 "metadata": {
  "kernelspec": {
   "display_name": "Python 3",
   "language": "python",
   "name": "python3"
  },
  "language_info": {
   "codemirror_mode": {
    "name": "ipython",
    "version": 3
   },
   "file_extension": ".py",
   "mimetype": "text/x-python",
   "name": "python",
   "nbconvert_exporter": "python",
   "pygments_lexer": "ipython3",
   "version": "3.6.1"
  }
 },
 "nbformat": 4,
 "nbformat_minor": 2
}
